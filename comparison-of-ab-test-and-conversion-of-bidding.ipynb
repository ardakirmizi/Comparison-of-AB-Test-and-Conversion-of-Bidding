{
 "cells": [
  {
   "cell_type": "markdown",
   "id": "d9a5eddd",
   "metadata": {
    "_cell_guid": "b1076dfc-b9ad-4769-8c92-a6c4dae69d19",
    "_uuid": "8f2839f25d086af736a60e9eeb907d3b93b6e0e5",
    "papermill": {
     "duration": 0.007426,
     "end_time": "2022-12-07T12:05:43.185065",
     "exception": false,
     "start_time": "2022-12-07T12:05:43.177639",
     "status": "completed"
    },
    "tags": []
   },
   "source": [
    "  Business Problem\n",
    "\n",
    "  One of our customers has decided to test the new feature and wants to do an A/B test\n",
    " to see if averagebidding converts more than maximumbidding.\n",
    "\n",
    "  A/B testing has been going on for 1 month and the customer is now waiting for you analyze the result of this A/B test. The ultimate success criterion for the customer is Purchase. Therefore, the focus should be on the Purchase metric for statistical testing."
   ]
  },
  {
   "cell_type": "markdown",
   "id": "e433839d",
   "metadata": {
    "papermill": {
     "duration": 0.004763,
     "end_time": "2022-12-07T12:05:43.195418",
     "exception": false,
     "start_time": "2022-12-07T12:05:43.190655",
     "status": "completed"
    },
    "tags": []
   },
   "source": [
    " Dataset Summary\n",
    "\n",
    " Dataset which includes the website information of a company, there is information such as the number of advertisements that users see and click, as well as earnings information from here. There are two separate data sets, the control and test groups. maximumbidding was applied to the control group and averaagebidding was applied to the test group.\n",
    "\n",
    "*  Impression: Ad views\n",
    "*  Click: Number of clicks on the displayed ad\n",
    "*  Purchase: Number of products purchased after ads clicked\n",
    "*  Earning: Earnings after purchased products"
   ]
  },
  {
   "cell_type": "code",
   "execution_count": 1,
   "id": "7aa20ffc",
   "metadata": {
    "execution": {
     "iopub.execute_input": "2022-12-07T12:05:43.210627Z",
     "iopub.status.busy": "2022-12-07T12:05:43.208655Z",
     "iopub.status.idle": "2022-12-07T12:05:44.463315Z",
     "shell.execute_reply": "2022-12-07T12:05:44.461904Z"
    },
    "papermill": {
     "duration": 1.265711,
     "end_time": "2022-12-07T12:05:44.466179",
     "exception": false,
     "start_time": "2022-12-07T12:05:43.200468",
     "status": "completed"
    },
    "tags": []
   },
   "outputs": [],
   "source": [
    "# import lib\n",
    "\n",
    "import pandas as pd\n",
    "import seaborn as sns\n",
    "import matplotlib.pyplot as plt\n",
    "import statsmodels.stats.api as sms\n",
    "from scipy.stats import ttest_1samp, shapiro, levene, ttest_ind, mannwhitneyu, pearsonr, spearmanr, kendalltau, f_oneway, kruskal"
   ]
  },
  {
   "cell_type": "code",
   "execution_count": 2,
   "id": "48c248e4",
   "metadata": {
    "execution": {
     "iopub.execute_input": "2022-12-07T12:05:44.478940Z",
     "iopub.status.busy": "2022-12-07T12:05:44.478420Z",
     "iopub.status.idle": "2022-12-07T12:05:44.484685Z",
     "shell.execute_reply": "2022-12-07T12:05:44.483385Z"
    },
    "papermill": {
     "duration": 0.015852,
     "end_time": "2022-12-07T12:05:44.487256",
     "exception": false,
     "start_time": "2022-12-07T12:05:44.471404",
     "status": "completed"
    },
    "tags": []
   },
   "outputs": [],
   "source": [
    "pd.set_option('display.max_columns', None)\n",
    "pd.set_option('display.max_rows', 10)\n",
    "pd.set_option('display.float_format', lambda x: '%.5f' % x)\n",
    "pd.set_option('display.width', 225)\n"
   ]
  },
  {
   "cell_type": "code",
   "execution_count": 3,
   "id": "d16ea845",
   "metadata": {
    "execution": {
     "iopub.execute_input": "2022-12-07T12:05:44.499876Z",
     "iopub.status.busy": "2022-12-07T12:05:44.498900Z",
     "iopub.status.idle": "2022-12-07T12:05:44.936391Z",
     "shell.execute_reply": "2022-12-07T12:05:44.935149Z"
    },
    "papermill": {
     "duration": 0.447163,
     "end_time": "2022-12-07T12:05:44.939534",
     "exception": false,
     "start_time": "2022-12-07T12:05:44.492371",
     "status": "completed"
    },
    "tags": []
   },
   "outputs": [],
   "source": [
    "# datasets\n",
    "\n",
    "test_data = pd.read_excel(\"../input/ab-testing/ab_testing.xlsx\", sheet_name = \"Test Group\")\n",
    "control_data = pd.read_excel(\"../input/ab-testing/ab_testing.xlsx\", sheet_name = \"Control Group\")\n",
    "\n",
    "test_data_copy = test_data.copy()\n",
    "control_data_copy = control_data.copy()"
   ]
  },
  {
   "cell_type": "code",
   "execution_count": 4,
   "id": "329d6ce7",
   "metadata": {
    "execution": {
     "iopub.execute_input": "2022-12-07T12:05:44.952143Z",
     "iopub.status.busy": "2022-12-07T12:05:44.951686Z",
     "iopub.status.idle": "2022-12-07T12:05:45.004149Z",
     "shell.execute_reply": "2022-12-07T12:05:45.002739Z"
    },
    "papermill": {
     "duration": 0.064111,
     "end_time": "2022-12-07T12:05:45.009053",
     "exception": false,
     "start_time": "2022-12-07T12:05:44.944942",
     "status": "completed"
    },
    "tags": []
   },
   "outputs": [
    {
     "name": "stdout",
     "output_type": "stream",
     "text": [
      "###Shape###\n",
      "(40, 4) \n",
      "\n",
      "###Head###\n",
      "    Impression      Click  Purchase    Earning\n",
      "0  82529.45927 6090.07732 665.21125 2311.27714\n",
      "1  98050.45193 3382.86179 315.08489 1742.80686\n",
      "2  82696.02355 4167.96575 458.08374 1797.82745\n",
      "3 109914.40040 4910.88224 487.09077 1696.22918\n",
      "4 108457.76263 5987.65581 441.03405 1543.72018\n",
      "5  77773.63390 4462.20659 519.66966 2081.85185\n",
      "6  95110.58627 3555.58067 512.92875 1815.00661\n",
      "7 106649.18307 4358.02704 747.02012 1965.10040\n",
      "8 122709.71659 5091.55896 745.98568 1651.66299\n",
      "9  79498.24866 6653.84552 470.50137 2456.30424 \n",
      "\n",
      "###Info###\n",
      "<bound method DataFrame.info of      Impression      Click  Purchase    Earning\n",
      "0   82529.45927 6090.07732 665.21125 2311.27714\n",
      "1   98050.45193 3382.86179 315.08489 1742.80686\n",
      "2   82696.02355 4167.96575 458.08374 1797.82745\n",
      "3  109914.40040 4910.88224 487.09077 1696.22918\n",
      "4  108457.76263 5987.65581 441.03405 1543.72018\n",
      "..          ...        ...       ...        ...\n",
      "35 132064.21900 3747.15754 551.07241 2256.97559\n",
      "36  86409.94180 4608.25621 345.04603 1781.35769\n",
      "37 123678.93423 3649.07379 476.16813 2187.72122\n",
      "38 101997.49410 4736.35337 474.61354 2254.56383\n",
      "39 121085.88122 4285.17861 590.40602 1289.30895\n",
      "\n",
      "[40 rows x 4 columns]> \n",
      "\n",
      "###Type###\n",
      "Impression    float64\n",
      "Click         float64\n",
      "Purchase      float64\n",
      "Earning       float64\n",
      "dtype: object \n",
      "\n",
      "###NA###\n",
      "Impression    0\n",
      "Click         0\n",
      "Purchase      0\n",
      "Earning       0\n",
      "dtype: int64 \n",
      "\n",
      "###Tail###\n",
      "<bound method NDFrame.tail of      Impression      Click  Purchase    Earning\n",
      "0   82529.45927 6090.07732 665.21125 2311.27714\n",
      "1   98050.45193 3382.86179 315.08489 1742.80686\n",
      "2   82696.02355 4167.96575 458.08374 1797.82745\n",
      "3  109914.40040 4910.88224 487.09077 1696.22918\n",
      "4  108457.76263 5987.65581 441.03405 1543.72018\n",
      "..          ...        ...       ...        ...\n",
      "35 132064.21900 3747.15754 551.07241 2256.97559\n",
      "36  86409.94180 4608.25621 345.04603 1781.35769\n",
      "37 123678.93423 3649.07379 476.16813 2187.72122\n",
      "38 101997.49410 4736.35337 474.61354 2254.56383\n",
      "39 121085.88122 4285.17861 590.40602 1289.30895\n",
      "\n",
      "[40 rows x 4 columns]> \n",
      "\n",
      "###Shape###\n",
      "        Impression      Click  Purchase    Earning\n",
      "count     40.00000   40.00000  40.00000   40.00000\n",
      "mean  101711.44907 5100.65737 550.89406 1908.56830\n",
      "std    20302.15786 1329.98550 134.10820  302.91778\n",
      "min    45475.94296 2189.75316 267.02894 1253.98952\n",
      "25%    85726.69035 4124.30413 470.09553 1685.84720\n",
      "50%    99790.70108 5001.22060 531.20631 1975.16052\n",
      "75%   115212.81654 5923.80360 637.95709 2119.80278\n",
      "max   147539.33633 7959.12507 801.79502 2497.29522 \n",
      "\n"
     ]
    }
   ],
   "source": [
    "def check_data(dataframe):\n",
    "    print(\"###Shape###\")\n",
    "    print(dataframe.shape, \"\\n\")\n",
    "    print(\"###Head###\")\n",
    "    print(dataframe.head(10), \"\\n\")\n",
    "    print(\"###Info###\")\n",
    "    print(dataframe.info, \"\\n\")\n",
    "    print(\"###Type###\")\n",
    "    print(dataframe.dtypes, \"\\n\")\n",
    "    print(\"###NA###\")\n",
    "    print(dataframe.isnull().sum(), \"\\n\")\n",
    "    print(\"###Tail###\")\n",
    "    print(dataframe.tail, \"\\n\")\n",
    "    print(\"###Shape###\")\n",
    "    print(dataframe.describe(), \"\\n\")\n",
    "\n",
    "check_data(control_data)"
   ]
  },
  {
   "cell_type": "code",
   "execution_count": 5,
   "id": "9a049001",
   "metadata": {
    "execution": {
     "iopub.execute_input": "2022-12-07T12:05:45.022953Z",
     "iopub.status.busy": "2022-12-07T12:05:45.022513Z",
     "iopub.status.idle": "2022-12-07T12:05:45.054761Z",
     "shell.execute_reply": "2022-12-07T12:05:45.052498Z"
    },
    "papermill": {
     "duration": 0.042041,
     "end_time": "2022-12-07T12:05:45.057384",
     "exception": false,
     "start_time": "2022-12-07T12:05:45.015343",
     "status": "completed"
    },
    "tags": []
   },
   "outputs": [
    {
     "name": "stdout",
     "output_type": "stream",
     "text": [
      "###Shape###\n",
      "(40, 4) \n",
      "\n",
      "###Head###\n",
      "    Impression      Click  Purchase    Earning\n",
      "0 120103.50380 3216.54796 702.16035 1939.61124\n",
      "1 134775.94336 3635.08242 834.05429 2929.40582\n",
      "2 107806.62079 3057.14356 422.93426 2526.24488\n",
      "3 116445.27553 4650.47391 429.03353 2281.42857\n",
      "4 145082.51684 5201.38772 749.86044 2781.69752\n",
      "5 115923.00695 4213.86862 778.37316 2157.40855\n",
      "6 106116.43664 3279.47297 491.61453 2560.41120\n",
      "7 125957.11610 4690.56991 855.71980 2563.57976\n",
      "8 117442.86465 3907.93924 660.47791 2242.23259\n",
      "9 131271.71560 4721.18781 532.27934 2368.10857 \n",
      "\n",
      "###Info###\n",
      "<bound method DataFrame.info of      Impression      Click  Purchase    Earning\n",
      "0  120103.50380 3216.54796 702.16035 1939.61124\n",
      "1  134775.94336 3635.08242 834.05429 2929.40582\n",
      "2  107806.62079 3057.14356 422.93426 2526.24488\n",
      "3  116445.27553 4650.47391 429.03353 2281.42857\n",
      "4  145082.51684 5201.38772 749.86044 2781.69752\n",
      "..          ...        ...       ...        ...\n",
      "35  79234.91193 6002.21358 382.04712 2277.86398\n",
      "36 130702.23941 3626.32007 449.82459 2530.84133\n",
      "37 116481.87337 4702.78247 472.45373 2597.91763\n",
      "38  79033.83492 4495.42818 425.35910 2595.85788\n",
      "39 102257.45409 4800.06832 521.31073 2967.51839\n",
      "\n",
      "[40 rows x 4 columns]> \n",
      "\n",
      "###Type###\n",
      "Impression    float64\n",
      "Click         float64\n",
      "Purchase      float64\n",
      "Earning       float64\n",
      "dtype: object \n",
      "\n",
      "###NA###\n",
      "Impression    0\n",
      "Click         0\n",
      "Purchase      0\n",
      "Earning       0\n",
      "dtype: int64 \n",
      "\n",
      "###Tail###\n",
      "<bound method NDFrame.tail of      Impression      Click  Purchase    Earning\n",
      "0  120103.50380 3216.54796 702.16035 1939.61124\n",
      "1  134775.94336 3635.08242 834.05429 2929.40582\n",
      "2  107806.62079 3057.14356 422.93426 2526.24488\n",
      "3  116445.27553 4650.47391 429.03353 2281.42857\n",
      "4  145082.51684 5201.38772 749.86044 2781.69752\n",
      "..          ...        ...       ...        ...\n",
      "35  79234.91193 6002.21358 382.04712 2277.86398\n",
      "36 130702.23941 3626.32007 449.82459 2530.84133\n",
      "37 116481.87337 4702.78247 472.45373 2597.91763\n",
      "38  79033.83492 4495.42818 425.35910 2595.85788\n",
      "39 102257.45409 4800.06832 521.31073 2967.51839\n",
      "\n",
      "[40 rows x 4 columns]> \n",
      "\n",
      "###Shape###\n",
      "        Impression      Click  Purchase    Earning\n",
      "count     40.00000   40.00000  40.00000   40.00000\n",
      "mean  120512.41176 3967.54976 582.10610 2514.89073\n",
      "std    18807.44871  923.09507 161.15251  282.73085\n",
      "min    79033.83492 1836.62986 311.62952 1939.61124\n",
      "25%   112691.97077 3376.81902 444.62683 2280.53743\n",
      "50%   119291.30077 3931.35980 551.35573 2544.66611\n",
      "75%   132050.57893 4660.49791 699.86236 2761.54540\n",
      "max   158605.92048 6019.69508 889.91046 3171.48971 \n",
      "\n"
     ]
    }
   ],
   "source": [
    "check_data(test_data)"
   ]
  },
  {
   "cell_type": "code",
   "execution_count": 6,
   "id": "e6599ba7",
   "metadata": {
    "execution": {
     "iopub.execute_input": "2022-12-07T12:05:45.071157Z",
     "iopub.status.busy": "2022-12-07T12:05:45.070413Z",
     "iopub.status.idle": "2022-12-07T12:05:45.077040Z",
     "shell.execute_reply": "2022-12-07T12:05:45.075841Z"
    },
    "papermill": {
     "duration": 0.016446,
     "end_time": "2022-12-07T12:05:45.079754",
     "exception": false,
     "start_time": "2022-12-07T12:05:45.063308",
     "status": "completed"
    },
    "tags": []
   },
   "outputs": [],
   "source": [
    "#Combining test and control data with concat\n",
    "df = pd.concat([control_data, test_data])"
   ]
  },
  {
   "cell_type": "markdown",
   "id": "46f21035",
   "metadata": {
    "papermill": {
     "duration": 0.005249,
     "end_time": "2022-12-07T12:05:45.091260",
     "exception": false,
     "start_time": "2022-12-07T12:05:45.086011",
     "status": "completed"
    },
    "tags": []
   },
   "source": [
    "* Hypothesizing\n",
    "1. HO: M1=M2 (There is no statistical difference between the purchasing averages between the two bidding types.)\n",
    "2. H1: M1!=M2 (There is statistical difference between the purchasing averages between the two bidding types.)\n",
    "\n"
   ]
  },
  {
   "cell_type": "markdown",
   "id": "85efcac8",
   "metadata": {
    "papermill": {
     "duration": 0.005279,
     "end_time": "2022-12-07T12:05:45.104163",
     "exception": false,
     "start_time": "2022-12-07T12:05:45.098884",
     "status": "completed"
    },
    "tags": []
   },
   "source": []
  },
  {
   "cell_type": "code",
   "execution_count": 7,
   "id": "7ee2b6dd",
   "metadata": {
    "execution": {
     "iopub.execute_input": "2022-12-07T12:05:45.117418Z",
     "iopub.status.busy": "2022-12-07T12:05:45.116992Z",
     "iopub.status.idle": "2022-12-07T12:05:45.125135Z",
     "shell.execute_reply": "2022-12-07T12:05:45.123608Z"
    },
    "papermill": {
     "duration": 0.018929,
     "end_time": "2022-12-07T12:05:45.128737",
     "exception": false,
     "start_time": "2022-12-07T12:05:45.109808",
     "status": "completed"
    },
    "tags": []
   },
   "outputs": [
    {
     "name": "stdout",
     "output_type": "stream",
     "text": [
      "Control Data Purchase Average = 550.8940587702316\n",
      "Test Data Purchase Average = 582.1060966484677\n"
     ]
    }
   ],
   "source": [
    "purchase_control = control_data[\"Purchase\"].mean()\n",
    "purchase_test = test_data[\"Purchase\"].mean()\n",
    "\n",
    "print(f'Control Data Purchase Average = {purchase_control}\\nTest Data Purchase Average = {purchase_test}')\n",
    "\n",
    "\n"
   ]
  },
  {
   "cell_type": "markdown",
   "id": "e3b941c4",
   "metadata": {
    "execution": {
     "iopub.execute_input": "2022-11-06T16:27:23.131948Z",
     "iopub.status.busy": "2022-11-06T16:27:23.131545Z",
     "iopub.status.idle": "2022-11-06T16:27:23.156286Z",
     "shell.execute_reply": "2022-11-06T16:27:23.154526Z",
     "shell.execute_reply.started": "2022-11-06T16:27:23.131916Z"
    },
    "papermill": {
     "duration": 0.00549,
     "end_time": "2022-12-07T12:05:45.141669",
     "exception": false,
     "start_time": "2022-12-07T12:05:45.136179",
     "status": "completed"
    },
    "tags": []
   },
   "source": [
    "* Normality Assumptions\n",
    "\n",
    "1. H0:Assumption of normal distribution is provided.\n",
    "2. H1:Assumption of normal distribution cannot be provided.\n",
    "\n",
    "\n",
    "*  H0 is rejected if p-value < 0.05\n",
    "*  H0 cannot be rejected if p-value > 0.05."
   ]
  },
  {
   "cell_type": "code",
   "execution_count": 8,
   "id": "e306f5ba",
   "metadata": {
    "execution": {
     "iopub.execute_input": "2022-12-07T12:05:45.155886Z",
     "iopub.status.busy": "2022-12-07T12:05:45.155370Z",
     "iopub.status.idle": "2022-12-07T12:05:45.163844Z",
     "shell.execute_reply": "2022-12-07T12:05:45.162133Z"
    },
    "papermill": {
     "duration": 0.01897,
     "end_time": "2022-12-07T12:05:45.166508",
     "exception": false,
     "start_time": "2022-12-07T12:05:45.147538",
     "status": "completed"
    },
    "tags": []
   },
   "outputs": [
    {
     "name": "stdout",
     "output_type": "stream",
     "text": [
      "Test Stat= 0.9589452147483826, pvalue= 0.15413185954093933\n"
     ]
    }
   ],
   "source": [
    "test_stat, pvalue = shapiro(test_data[\"Purchase\"])\n",
    "print(f'Test Stat= {test_stat}, pvalue= {pvalue}')"
   ]
  },
  {
   "cell_type": "code",
   "execution_count": 9,
   "id": "6bc28373",
   "metadata": {
    "execution": {
     "iopub.execute_input": "2022-12-07T12:05:45.181227Z",
     "iopub.status.busy": "2022-12-07T12:05:45.180755Z",
     "iopub.status.idle": "2022-12-07T12:05:45.188373Z",
     "shell.execute_reply": "2022-12-07T12:05:45.186866Z"
    },
    "papermill": {
     "duration": 0.018013,
     "end_time": "2022-12-07T12:05:45.191383",
     "exception": false,
     "start_time": "2022-12-07T12:05:45.173370",
     "status": "completed"
    },
    "tags": []
   },
   "outputs": [
    {
     "name": "stdout",
     "output_type": "stream",
     "text": [
      "Test Stat= 0.9772694110870361, pvalue= 0.5891125202178955\n"
     ]
    }
   ],
   "source": [
    "test_stat, pvalue = shapiro(control_data[\"Purchase\"])\n",
    "print(f'Test Stat= {test_stat}, pvalue= {pvalue}')\n",
    "\n"
   ]
  },
  {
   "cell_type": "markdown",
   "id": "fed2870d",
   "metadata": {
    "papermill": {
     "duration": 0.005266,
     "end_time": "2022-12-07T12:05:45.202487",
     "exception": false,
     "start_time": "2022-12-07T12:05:45.197221",
     "status": "completed"
    },
    "tags": []
   },
   "source": [
    "Hypothesis cannot be rejected for both groups because P-values are greater than 0.05 for both data."
   ]
  },
  {
   "cell_type": "markdown",
   "id": "bc733f91",
   "metadata": {
    "papermill": {
     "duration": 0.005327,
     "end_time": "2022-12-07T12:05:45.213411",
     "exception": false,
     "start_time": "2022-12-07T12:05:45.208084",
     "status": "completed"
    },
    "tags": []
   },
   "source": [
    "* Variance Homogeneity\n",
    "\n",
    "1. H0:Variances are homogeneous.\n",
    "2. H1:Variances are not homogeneous.\n"
   ]
  },
  {
   "cell_type": "code",
   "execution_count": 10,
   "id": "6779059e",
   "metadata": {
    "execution": {
     "iopub.execute_input": "2022-12-07T12:05:45.227359Z",
     "iopub.status.busy": "2022-12-07T12:05:45.226578Z",
     "iopub.status.idle": "2022-12-07T12:05:45.235977Z",
     "shell.execute_reply": "2022-12-07T12:05:45.234126Z"
    },
    "papermill": {
     "duration": 0.019657,
     "end_time": "2022-12-07T12:05:45.238821",
     "exception": false,
     "start_time": "2022-12-07T12:05:45.219164",
     "status": "completed"
    },
    "tags": []
   },
   "outputs": [
    {
     "name": "stdout",
     "output_type": "stream",
     "text": [
      "Test Stat= 2.6392694728747363, pvalue=0.10828588271874791\n"
     ]
    }
   ],
   "source": [
    "test_stat, pvalue = levene(test_data[\"Purchase\"], control_data[\"Purchase\"])\n",
    "print(f'Test Stat= {test_stat}, pvalue={pvalue}')"
   ]
  },
  {
   "cell_type": "markdown",
   "id": "5e78860c",
   "metadata": {
    "papermill": {
     "duration": 0.005465,
     "end_time": "2022-12-07T12:05:45.250500",
     "exception": false,
     "start_time": "2022-12-07T12:05:45.245035",
     "status": "completed"
    },
    "tags": []
   },
   "source": [
    "Variances are homogeneous and cannot be rejected because the p value is greater than 0.05.\n",
    "\n",
    "It is provided in two assumptions. For AB-Test, t-test is applied."
   ]
  },
  {
   "cell_type": "code",
   "execution_count": 11,
   "id": "8fda3da4",
   "metadata": {
    "execution": {
     "iopub.execute_input": "2022-12-07T12:05:45.264886Z",
     "iopub.status.busy": "2022-12-07T12:05:45.264378Z",
     "iopub.status.idle": "2022-12-07T12:05:45.271853Z",
     "shell.execute_reply": "2022-12-07T12:05:45.270519Z"
    },
    "papermill": {
     "duration": 0.018359,
     "end_time": "2022-12-07T12:05:45.274599",
     "exception": false,
     "start_time": "2022-12-07T12:05:45.256240",
     "status": "completed"
    },
    "tags": []
   },
   "outputs": [
    {
     "name": "stdout",
     "output_type": "stream",
     "text": [
      "Test stat= 0.9415584300312964, pvalue = 0.34932579202108416\n"
     ]
    }
   ],
   "source": [
    "test_stat, pvalue = ttest_ind(test_data[\"Purchase\"], control_data[\"Purchase\"])\n",
    "print(f'Test stat= {test_stat}, pvalue = {pvalue}')"
   ]
  },
  {
   "cell_type": "markdown",
   "id": "4a393743",
   "metadata": {
    "papermill": {
     "duration": 0.005599,
     "end_time": "2022-12-07T12:05:45.286056",
     "exception": false,
     "start_time": "2022-12-07T12:05:45.280457",
     "status": "completed"
    },
    "tags": []
   },
   "source": [
    "Since the P value is greater than 0.05, the hypothesis cannot be rejected. There is no significant difference between the two groups."
   ]
  },
  {
   "cell_type": "markdown",
   "id": "1154d2aa",
   "metadata": {
    "papermill": {
     "duration": 0.005314,
     "end_time": "2022-12-07T12:05:45.297391",
     "exception": false,
     "start_time": "2022-12-07T12:05:45.292077",
     "status": "completed"
    },
    "tags": []
   },
   "source": []
  }
 ],
 "metadata": {
  "kernelspec": {
   "display_name": "Python 3",
   "language": "python",
   "name": "python3"
  },
  "language_info": {
   "codemirror_mode": {
    "name": "ipython",
    "version": 3
   },
   "file_extension": ".py",
   "mimetype": "text/x-python",
   "name": "python",
   "nbconvert_exporter": "python",
   "pygments_lexer": "ipython3",
   "version": "3.7.12"
  },
  "papermill": {
   "default_parameters": {},
   "duration": 13.860965,
   "end_time": "2022-12-07T12:05:46.127337",
   "environment_variables": {},
   "exception": null,
   "input_path": "__notebook__.ipynb",
   "output_path": "__notebook__.ipynb",
   "parameters": {},
   "start_time": "2022-12-07T12:05:32.266372",
   "version": "2.3.4"
  }
 },
 "nbformat": 4,
 "nbformat_minor": 5
}
